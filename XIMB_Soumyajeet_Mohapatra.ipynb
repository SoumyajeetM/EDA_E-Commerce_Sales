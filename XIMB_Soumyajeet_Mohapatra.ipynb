{
  "nbformat": 4,
  "nbformat_minor": 0,
  "metadata": {
    "colab": {
      "provenance": [],
      "include_colab_link": true
    },
    "kernelspec": {
      "name": "python3",
      "display_name": "Python 3"
    },
    "language_info": {
      "name": "python"
    }
  },
  "cells": [
    {
      "cell_type": "markdown",
      "metadata": {
        "id": "view-in-github",
        "colab_type": "text"
      },
      "source": [
        "<a href=\"https://colab.research.google.com/github/SoumyajeetM/EDA_E-Commerce_Sales/blob/main/XIMB_Soumyajeet_Mohapatra.ipynb\" target=\"_parent\"><img src=\"https://colab.research.google.com/assets/colab-badge.svg\" alt=\"Open In Colab\"/></a>"
      ]
    },
    {
      "cell_type": "code",
      "execution_count": null,
      "metadata": {
        "id": "-R4JPzCzgi1E",
        "colab": {
          "base_uri": "https://localhost:8080/"
        },
        "outputId": "f600013a-211f-42f7-da79-795c028d3200"
      },
      "outputs": [
        {
          "output_type": "execute_result",
          "data": {
            "text/plain": [
              "<function datetime.strptime>"
            ]
          },
          "metadata": {},
          "execution_count": 1
        }
      ],
      "source": [
        "# Data Manipulation\n",
        "import pandas as pd\n",
        "import numpy as np\n",
        "# Data Visualisation\n",
        "import matplotlib.pyplot as plt\n",
        "%matplotlib inline\n",
        "\n",
        "import seaborn as sns\n",
        "# Importing dataset\n",
        "# Check 'Order_only.xlsx' file and upload it.\n",
        "df = pd.read_excel('Book1.xlsx')"
      ]
    },
    {
      "cell_type": "code",
      "source": [
        "df.info()"
      ],
      "metadata": {
        "colab": {
          "base_uri": "https://localhost:8080/"
        },
        "id": "uTHiWvE_xHhu",
        "outputId": "7e49ae50-85b9-4f6f-9e9b-958b55ffc8b8"
      },
      "execution_count": null,
      "outputs": [
        {
          "output_type": "stream",
          "name": "stdout",
          "text": [
            "<class 'pandas.core.frame.DataFrame'>\n",
            "RangeIndex: 59833 entries, 0 to 59832\n",
            "Data columns (total 25 columns):\n",
            " #   Column                   Non-Null Count  Dtype         \n",
            "---  ------                   --------------  -----         \n",
            " 0   Selling_Store_ID         59833 non-null  int64         \n",
            " 1   InventoryStore_ID        59833 non-null  int64         \n",
            " 2   Sale in Other Store      59833 non-null  object        \n",
            " 3   TransID                  59833 non-null  float64       \n",
            " 4   TrsDt                    59833 non-null  datetime64[ns]\n",
            " 5   TrsTm                    59833 non-null  object        \n",
            " 6   Product Line             59833 non-null  int64         \n",
            " 7   Product_Line_Type        59833 non-null  object        \n",
            " 8   Product Div              59833 non-null  int64         \n",
            " 9   Product_ID               59833 non-null  int64         \n",
            " 10  Product_Variant          59833 non-null  int64         \n",
            " 11  NetQty                   59833 non-null  int64         \n",
            " 12  Full Retail Price        59833 non-null  float64       \n",
            " 13  Discounted Retail Price  59833 non-null  float64       \n",
            " 14  Discount                 59833 non-null  float64       \n",
            " 15  Over_Ride_Amount         59833 non-null  float64       \n",
            " 16  POS_Amount               59833 non-null  float64       \n",
            " 17  POS_MarkDown             59833 non-null  float64       \n",
            " 18  NetSale                  59833 non-null  float64       \n",
            " 19  Tax                      59833 non-null  float64       \n",
            " 20  Tax%                     58140 non-null  float64       \n",
            " 21  Gross_Sale               59833 non-null  float64       \n",
            " 22  Assoc_ID                 59833 non-null  int64         \n",
            " 23  Warranty_Eligible        59833 non-null  object        \n",
            " 24  Loyalty_ID               59833 non-null  int64         \n",
            "dtypes: datetime64[ns](1), float64(11), int64(9), object(4)\n",
            "memory usage: 11.4+ MB\n"
          ]
        }
      ]
    },
    {
      "cell_type": "code",
      "source": [
        "#Finding Products Purchased of Customers\n",
        "df_new=df.loc[df['Loyalty_ID'] == 7081057570919140,:]\n",
        "\n",
        "df_new['Product_ID'].unique()"
      ],
      "metadata": {
        "colab": {
          "base_uri": "https://localhost:8080/"
        },
        "id": "Rc5lE1bNxHfK",
        "outputId": "2a8ce2db-00f7-4aac-c911-6dba711704ed"
      },
      "execution_count": null,
      "outputs": [
        {
          "output_type": "execute_result",
          "data": {
            "text/plain": [
              "array([80763, 10130, 89805, 69253, 89818, 89795, 71969,     0, 10129,\n",
              "       76911, 17088, 68545, 70296, 17224, 74352, 93714, 60965, 81920,\n",
              "       90436])"
            ]
          },
          "metadata": {},
          "execution_count": 46
        }
      ]
    },
    {
      "cell_type": "code",
      "source": [
        "#Determinig Correlation Between Products\n",
        "df_tem=df.loc[df['Product_ID'] == 43434,:]\n",
        "df_t=df.loc[df['Product_ID'] == 43444,:]\n",
        "df1 = df_t[['TrsDt','NetSale']]\n",
        "df1.rename(columns = {'NetSale':'Sales1'}, inplace = True)\n",
        "df2=df_tem[['TrsDt','NetSale']]\n",
        "df2.rename(columns = {'NetSale':'Sales2'}, inplace = True)\n",
        "subcat = df1.append(df2)\n",
        "subcat['Date'] = subcat['TrsDt'].apply(lambda x: x.strftime('%Y-%m-%d'))\n",
        "subcat=subcat.groupby('Date').agg({'Sales1':'sum', 'Sales2':'sum'})\n",
        "\n",
        "subcat.corr()"
      ],
      "metadata": {
        "colab": {
          "base_uri": "https://localhost:8080/",
          "height": 204
        },
        "id": "prvxd3dCxHbu",
        "outputId": "c46270d9-ef38-4e7a-84d4-d306d1ac9d8a"
      },
      "execution_count": null,
      "outputs": [
        {
          "output_type": "stream",
          "name": "stderr",
          "text": [
            "/usr/local/lib/python3.7/dist-packages/pandas/core/frame.py:5047: SettingWithCopyWarning: \n",
            "A value is trying to be set on a copy of a slice from a DataFrame\n",
            "\n",
            "See the caveats in the documentation: https://pandas.pydata.org/pandas-docs/stable/user_guide/indexing.html#returning-a-view-versus-a-copy\n",
            "  errors=errors,\n"
          ]
        },
        {
          "output_type": "execute_result",
          "data": {
            "text/plain": [
              "          Sales1    Sales2\n",
              "Sales1  1.000000  0.268627\n",
              "Sales2  0.268627  1.000000"
            ],
            "text/html": [
              "\n",
              "  <div id=\"df-3a7bdc7c-1521-4df0-b916-7e65032663bc\">\n",
              "    <div class=\"colab-df-container\">\n",
              "      <div>\n",
              "<style scoped>\n",
              "    .dataframe tbody tr th:only-of-type {\n",
              "        vertical-align: middle;\n",
              "    }\n",
              "\n",
              "    .dataframe tbody tr th {\n",
              "        vertical-align: top;\n",
              "    }\n",
              "\n",
              "    .dataframe thead th {\n",
              "        text-align: right;\n",
              "    }\n",
              "</style>\n",
              "<table border=\"1\" class=\"dataframe\">\n",
              "  <thead>\n",
              "    <tr style=\"text-align: right;\">\n",
              "      <th></th>\n",
              "      <th>Sales1</th>\n",
              "      <th>Sales2</th>\n",
              "    </tr>\n",
              "  </thead>\n",
              "  <tbody>\n",
              "    <tr>\n",
              "      <th>Sales1</th>\n",
              "      <td>1.000000</td>\n",
              "      <td>0.268627</td>\n",
              "    </tr>\n",
              "    <tr>\n",
              "      <th>Sales2</th>\n",
              "      <td>0.268627</td>\n",
              "      <td>1.000000</td>\n",
              "    </tr>\n",
              "  </tbody>\n",
              "</table>\n",
              "</div>\n",
              "      <button class=\"colab-df-convert\" onclick=\"convertToInteractive('df-3a7bdc7c-1521-4df0-b916-7e65032663bc')\"\n",
              "              title=\"Convert this dataframe to an interactive table.\"\n",
              "              style=\"display:none;\">\n",
              "        \n",
              "  <svg xmlns=\"http://www.w3.org/2000/svg\" height=\"24px\"viewBox=\"0 0 24 24\"\n",
              "       width=\"24px\">\n",
              "    <path d=\"M0 0h24v24H0V0z\" fill=\"none\"/>\n",
              "    <path d=\"M18.56 5.44l.94 2.06.94-2.06 2.06-.94-2.06-.94-.94-2.06-.94 2.06-2.06.94zm-11 1L8.5 8.5l.94-2.06 2.06-.94-2.06-.94L8.5 2.5l-.94 2.06-2.06.94zm10 10l.94 2.06.94-2.06 2.06-.94-2.06-.94-.94-2.06-.94 2.06-2.06.94z\"/><path d=\"M17.41 7.96l-1.37-1.37c-.4-.4-.92-.59-1.43-.59-.52 0-1.04.2-1.43.59L10.3 9.45l-7.72 7.72c-.78.78-.78 2.05 0 2.83L4 21.41c.39.39.9.59 1.41.59.51 0 1.02-.2 1.41-.59l7.78-7.78 2.81-2.81c.8-.78.8-2.07 0-2.86zM5.41 20L4 18.59l7.72-7.72 1.47 1.35L5.41 20z\"/>\n",
              "  </svg>\n",
              "      </button>\n",
              "      \n",
              "  <style>\n",
              "    .colab-df-container {\n",
              "      display:flex;\n",
              "      flex-wrap:wrap;\n",
              "      gap: 12px;\n",
              "    }\n",
              "\n",
              "    .colab-df-convert {\n",
              "      background-color: #E8F0FE;\n",
              "      border: none;\n",
              "      border-radius: 50%;\n",
              "      cursor: pointer;\n",
              "      display: none;\n",
              "      fill: #1967D2;\n",
              "      height: 32px;\n",
              "      padding: 0 0 0 0;\n",
              "      width: 32px;\n",
              "    }\n",
              "\n",
              "    .colab-df-convert:hover {\n",
              "      background-color: #E2EBFA;\n",
              "      box-shadow: 0px 1px 2px rgba(60, 64, 67, 0.3), 0px 1px 3px 1px rgba(60, 64, 67, 0.15);\n",
              "      fill: #174EA6;\n",
              "    }\n",
              "\n",
              "    [theme=dark] .colab-df-convert {\n",
              "      background-color: #3B4455;\n",
              "      fill: #D2E3FC;\n",
              "    }\n",
              "\n",
              "    [theme=dark] .colab-df-convert:hover {\n",
              "      background-color: #434B5C;\n",
              "      box-shadow: 0px 1px 3px 1px rgba(0, 0, 0, 0.15);\n",
              "      filter: drop-shadow(0px 1px 2px rgba(0, 0, 0, 0.3));\n",
              "      fill: #FFFFFF;\n",
              "    }\n",
              "  </style>\n",
              "\n",
              "      <script>\n",
              "        const buttonEl =\n",
              "          document.querySelector('#df-3a7bdc7c-1521-4df0-b916-7e65032663bc button.colab-df-convert');\n",
              "        buttonEl.style.display =\n",
              "          google.colab.kernel.accessAllowed ? 'block' : 'none';\n",
              "\n",
              "        async function convertToInteractive(key) {\n",
              "          const element = document.querySelector('#df-3a7bdc7c-1521-4df0-b916-7e65032663bc');\n",
              "          const dataTable =\n",
              "            await google.colab.kernel.invokeFunction('convertToInteractive',\n",
              "                                                     [key], {});\n",
              "          if (!dataTable) return;\n",
              "\n",
              "          const docLinkHtml = 'Like what you see? Visit the ' +\n",
              "            '<a target=\"_blank\" href=https://colab.research.google.com/notebooks/data_table.ipynb>data table notebook</a>'\n",
              "            + ' to learn more about interactive tables.';\n",
              "          element.innerHTML = '';\n",
              "          dataTable['output_type'] = 'display_data';\n",
              "          await google.colab.output.renderOutput(dataTable, element);\n",
              "          const docLink = document.createElement('div');\n",
              "          docLink.innerHTML = docLinkHtml;\n",
              "          element.appendChild(docLink);\n",
              "        }\n",
              "      </script>\n",
              "    </div>\n",
              "  </div>\n",
              "  "
            ]
          },
          "metadata": {},
          "execution_count": 24
        }
      ]
    },
    {
      "cell_type": "code",
      "source": [],
      "metadata": {
        "id": "tnGIMyPjUJg9"
      },
      "execution_count": null,
      "outputs": []
    },
    {
      "cell_type": "code",
      "source": [],
      "metadata": {
        "id": "WYjovGP8UJrv"
      },
      "execution_count": null,
      "outputs": []
    },
    {
      "cell_type": "code",
      "source": [],
      "metadata": {
        "id": "XxH8WoQsUJvI"
      },
      "execution_count": null,
      "outputs": []
    },
    {
      "cell_type": "code",
      "source": [],
      "metadata": {
        "id": "2twwlGyJUJy1"
      },
      "execution_count": null,
      "outputs": []
    },
    {
      "cell_type": "code",
      "source": [],
      "metadata": {
        "id": "u_jSR0T1xHYR"
      },
      "execution_count": null,
      "outputs": []
    },
    {
      "cell_type": "code",
      "source": [],
      "metadata": {
        "id": "4Bwv0-B7xHUY"
      },
      "execution_count": null,
      "outputs": []
    },
    {
      "cell_type": "code",
      "source": [],
      "metadata": {
        "id": "Jj2PwzacxHIv"
      },
      "execution_count": null,
      "outputs": []
    }
  ]
}